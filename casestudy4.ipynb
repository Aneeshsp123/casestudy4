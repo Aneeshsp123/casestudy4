{
 "cells": [
  {
   "cell_type": "markdown",
   "id": "1824591e",
   "metadata": {},
   "source": [
    "# A company started to invest in digital marketing as a new way of their product\n",
    "promotions.For that they collected data and decided to carry out a study on it.\n"
   ]
  },
  {
   "cell_type": "code",
   "execution_count": null,
   "id": "df524158",
   "metadata": {},
   "outputs": [],
   "source": [
    "import pandas as pd\n",
    "import numpy as np\n",
    "import matplotlib.pyplot as plt\n",
    "import seaborn as sns\n",
    "import scipy.stats as stats"
   ]
  },
  {
   "cell_type": "markdown",
   "id": "569ff647",
   "metadata": {},
   "source": [
    "# Reading dataset"
   ]
  },
  {
   "cell_type": "code",
   "execution_count": 7,
   "id": "976c6d6b",
   "metadata": {},
   "outputs": [
    {
     "name": "stdout",
     "output_type": "stream",
     "text": [
      "       Month      Region      Manager  Sales_before_digital_add(in $)  \\\n",
      "0    Month-1  Region - A  Manager - A                          132921   \n",
      "1    Month-2  Region - A  Manager - C                          149559   \n",
      "2    Month-3  Region - B  Manager - A                          146278   \n",
      "3    Month-4  Region - B  Manager - B                          152167   \n",
      "4    Month-5  Region - C  Manager - B                          159525   \n",
      "5    Month-6  Region - A  Manager - B                          137163   \n",
      "6    Month-7  Region - C  Manager - C                          130625   \n",
      "7    Month-8  Region - A  Manager - A                          131140   \n",
      "8    Month-9  Region - B  Manager - C                          171259   \n",
      "9   Month-10  Region - C  Manager - B                          141956   \n",
      "10  Month-11  Region - B  Manager - C                          159339   \n",
      "11  Month-12  Region - A  Manager - A                          178939   \n",
      "12  Month-13  Region - B  Manager - A                          145062   \n",
      "13  Month-14  Region - A  Manager - A                          151514   \n",
      "14  Month-15  Region - C  Manager - A                          147463   \n",
      "15  Month-16  Region - A  Manager - B                          177195   \n",
      "16  Month-17  Region - A  Manager - C                          140862   \n",
      "17  Month-18  Region - C  Manager - B                          167996   \n",
      "18  Month-19  Region - B  Manager - A                          132135   \n",
      "19  Month-20  Region - A  Manager - B                          152493   \n",
      "20  Month-21  Region - B  Manager - A                          147425   \n",
      "21  Month-22  Region - A  Manager - C                          130263   \n",
      "\n",
      "    Sales_After_digital_add(in $)  \n",
      "0                          270390  \n",
      "1                          223334  \n",
      "2                          244243  \n",
      "3                          231808  \n",
      "4                          258402  \n",
      "5                          256948  \n",
      "6                          222106  \n",
      "7                          230637  \n",
      "8                          226261  \n",
      "9                          193735  \n",
      "10                         203175  \n",
      "11                         276279  \n",
      "12                         205180  \n",
      "13                         253131  \n",
      "14                         229336  \n",
      "15                         187305  \n",
      "16                         234908  \n",
      "17                         191517  \n",
      "18                         227040  \n",
      "19                         212579  \n",
      "20                         263388  \n",
      "21                         243020  \n"
     ]
    }
   ],
   "source": [
    "df =pd.read_csv('Sales_add.csv')\n",
    "print(df)"
   ]
  },
  {
   "cell_type": "code",
   "execution_count": 8,
   "id": "7c8e4c7d",
   "metadata": {},
   "outputs": [
    {
     "name": "stdout",
     "output_type": "stream",
     "text": [
      "<class 'pandas.core.frame.DataFrame'>\n",
      "RangeIndex: 22 entries, 0 to 21\n",
      "Data columns (total 5 columns):\n",
      " #   Column                          Non-Null Count  Dtype \n",
      "---  ------                          --------------  ----- \n",
      " 0   Month                           22 non-null     object\n",
      " 1   Region                          22 non-null     object\n",
      " 2   Manager                         22 non-null     object\n",
      " 3   Sales_before_digital_add(in $)  22 non-null     int64 \n",
      " 4   Sales_After_digital_add(in $)   22 non-null     int64 \n",
      "dtypes: int64(2), object(3)\n",
      "memory usage: 1008.0+ bytes\n"
     ]
    }
   ],
   "source": [
    "df.info()\n"
   ]
  },
  {
   "cell_type": "code",
   "execution_count": 9,
   "id": "e74a8255",
   "metadata": {},
   "outputs": [
    {
     "data": {
      "text/html": [
       "<div>\n",
       "<style scoped>\n",
       "    .dataframe tbody tr th:only-of-type {\n",
       "        vertical-align: middle;\n",
       "    }\n",
       "\n",
       "    .dataframe tbody tr th {\n",
       "        vertical-align: top;\n",
       "    }\n",
       "\n",
       "    .dataframe thead th {\n",
       "        text-align: right;\n",
       "    }\n",
       "</style>\n",
       "<table border=\"1\" class=\"dataframe\">\n",
       "  <thead>\n",
       "    <tr style=\"text-align: right;\">\n",
       "      <th></th>\n",
       "      <th>Sales_before_digital_add(in $)</th>\n",
       "      <th>Sales_After_digital_add(in $)</th>\n",
       "    </tr>\n",
       "  </thead>\n",
       "  <tbody>\n",
       "    <tr>\n",
       "      <th>count</th>\n",
       "      <td>22.000000</td>\n",
       "      <td>22.000000</td>\n",
       "    </tr>\n",
       "    <tr>\n",
       "      <th>mean</th>\n",
       "      <td>149239.954545</td>\n",
       "      <td>231123.727273</td>\n",
       "    </tr>\n",
       "    <tr>\n",
       "      <th>std</th>\n",
       "      <td>14844.042921</td>\n",
       "      <td>25556.777061</td>\n",
       "    </tr>\n",
       "    <tr>\n",
       "      <th>min</th>\n",
       "      <td>130263.000000</td>\n",
       "      <td>187305.000000</td>\n",
       "    </tr>\n",
       "    <tr>\n",
       "      <th>25%</th>\n",
       "      <td>138087.750000</td>\n",
       "      <td>214960.750000</td>\n",
       "    </tr>\n",
       "    <tr>\n",
       "      <th>50%</th>\n",
       "      <td>147444.000000</td>\n",
       "      <td>229986.500000</td>\n",
       "    </tr>\n",
       "    <tr>\n",
       "      <th>75%</th>\n",
       "      <td>157627.500000</td>\n",
       "      <td>250909.000000</td>\n",
       "    </tr>\n",
       "    <tr>\n",
       "      <th>max</th>\n",
       "      <td>178939.000000</td>\n",
       "      <td>276279.000000</td>\n",
       "    </tr>\n",
       "  </tbody>\n",
       "</table>\n",
       "</div>"
      ],
      "text/plain": [
       "       Sales_before_digital_add(in $)  Sales_After_digital_add(in $)\n",
       "count                       22.000000                      22.000000\n",
       "mean                    149239.954545                  231123.727273\n",
       "std                      14844.042921                   25556.777061\n",
       "min                     130263.000000                  187305.000000\n",
       "25%                     138087.750000                  214960.750000\n",
       "50%                     147444.000000                  229986.500000\n",
       "75%                     157627.500000                  250909.000000\n",
       "max                     178939.000000                  276279.000000"
      ]
     },
     "execution_count": 9,
     "metadata": {},
     "output_type": "execute_result"
    }
   ],
   "source": [
    "df.describe()"
   ]
  },
  {
   "cell_type": "markdown",
   "id": "8b5f98b0",
   "metadata": {},
   "source": [
    "# The company wishes to check whether there is any increase in sales after stepping into digital marketing"
   ]
  },
  {
   "cell_type": "code",
   "execution_count": 10,
   "id": "7cac8697",
   "metadata": {},
   "outputs": [],
   "source": [
    "dfbefore= df['Sales_before_digital_add(in $)']\n",
    "dfafter = df['Sales_After_digital_add(in $)']"
   ]
  },
  {
   "cell_type": "code",
   "execution_count": 12,
   "id": "73ca262d",
   "metadata": {},
   "outputs": [
    {
     "data": {
      "text/plain": [
       "count        22.000000\n",
       "mean     149239.954545\n",
       "std       14844.042921\n",
       "min      130263.000000\n",
       "25%      138087.750000\n",
       "50%      147444.000000\n",
       "75%      157627.500000\n",
       "max      178939.000000\n",
       "Name: Sales_before_digital_add(in $), dtype: float64"
      ]
     },
     "execution_count": 12,
     "metadata": {},
     "output_type": "execute_result"
    }
   ],
   "source": [
    "dfbefore.describe()"
   ]
  },
  {
   "cell_type": "code",
   "execution_count": null,
   "id": "73a684a2",
   "metadata": {},
   "outputs": [],
   "source": []
  },
  {
   "cell_type": "code",
   "execution_count": 13,
   "id": "6ea54ede",
   "metadata": {},
   "outputs": [
    {
     "data": {
      "text/plain": [
       "count        22.000000\n",
       "mean     231123.727273\n",
       "std       25556.777061\n",
       "min      187305.000000\n",
       "25%      214960.750000\n",
       "50%      229986.500000\n",
       "75%      250909.000000\n",
       "max      276279.000000\n",
       "Name: Sales_After_digital_add(in $), dtype: float64"
      ]
     },
     "execution_count": 13,
     "metadata": {},
     "output_type": "execute_result"
    }
   ],
   "source": [
    "dfafter.describe()"
   ]
  },
  {
   "cell_type": "code",
   "execution_count": 15,
   "id": "d57c2e65",
   "metadata": {},
   "outputs": [
    {
     "ename": "SyntaxError",
     "evalue": "invalid syntax (<ipython-input-15-e1795a2fa576>, line 1)",
     "output_type": "error",
     "traceback": [
      "\u001b[1;36m  File \u001b[1;32m\"<ipython-input-15-e1795a2fa576>\"\u001b[1;36m, line \u001b[1;32m1\u001b[0m\n\u001b[1;33m    We have to check for any increase in sales. Here we have to consider a one-tailed t-test\u001b[0m\n\u001b[1;37m       ^\u001b[0m\n\u001b[1;31mSyntaxError\u001b[0m\u001b[1;31m:\u001b[0m invalid syntax\n"
     ]
    }
   ],
   "source": [
    "We have to check for any increase in sales. Here we have to consider a one-tailed t-test\n",
    "\n",
    "NULL HYPOTHESIS: Sales before stepping into digital marketing is same as that of the Sales after stepping into digital market.\n",
    "\n",
    "ALTERNATIVE HYPOTHESIS: Sales after stepping into digital marketing is greater than Sales before stepping into digital marketing\n",
    "\n",
    "Significance level is assumed to be 0.05\n",
    "\n"
   ]
  },
  {
   "cell_type": "code",
   "execution_count": 19,
   "id": "192577fa",
   "metadata": {},
   "outputs": [
    {
     "data": {
      "text/plain": [
       "Ttest_indResult(statistic=-12.995084451110877, pvalue=2.614368006904645e-16)"
      ]
     },
     "execution_count": 19,
     "metadata": {},
     "output_type": "execute_result"
    }
   ],
   "source": [
    "stats.ttest_ind(a=dfbefore, b=dfafter, equal_var=True)"
   ]
  },
  {
   "cell_type": "code",
   "execution_count": null,
   "id": "05886c5c",
   "metadata": {},
   "outputs": [],
   "source": []
  },
  {
   "cell_type": "markdown",
   "id": "70860f3a",
   "metadata": {},
   "source": [
    "# The company needs to check whether there is any dependency between the features “Region” and “Manager"
   ]
  },
  {
   "cell_type": "markdown",
   "id": "9c4a89fa",
   "metadata": {},
   "source": [
    "# NULL HYPOTHESIS: Features Region and Manager are independant.\n",
    "\n",
    "ALTERNATIVE HYPOTHESIS: Features Region and Manager are dependent.\n",
    "\n",
    "Significance level is assumed to be 0.05\n"
   ]
  },
  {
   "cell_type": "code",
   "execution_count": 20,
   "id": "0b8d0c7e",
   "metadata": {},
   "outputs": [],
   "source": [
    "df1 = df['Region']\n",
    "df2 = df['Manager']"
   ]
  },
  {
   "cell_type": "code",
   "execution_count": 21,
   "id": "3a26347d",
   "metadata": {},
   "outputs": [
    {
     "data": {
      "text/html": [
       "<div>\n",
       "<style scoped>\n",
       "    .dataframe tbody tr th:only-of-type {\n",
       "        vertical-align: middle;\n",
       "    }\n",
       "\n",
       "    .dataframe tbody tr th {\n",
       "        vertical-align: top;\n",
       "    }\n",
       "\n",
       "    .dataframe thead th {\n",
       "        text-align: right;\n",
       "    }\n",
       "</style>\n",
       "<table border=\"1\" class=\"dataframe\">\n",
       "  <thead>\n",
       "    <tr style=\"text-align: right;\">\n",
       "      <th>Manager</th>\n",
       "      <th>Manager - A</th>\n",
       "      <th>Manager - B</th>\n",
       "      <th>Manager - C</th>\n",
       "    </tr>\n",
       "    <tr>\n",
       "      <th>Region</th>\n",
       "      <th></th>\n",
       "      <th></th>\n",
       "      <th></th>\n",
       "    </tr>\n",
       "  </thead>\n",
       "  <tbody>\n",
       "    <tr>\n",
       "      <th>Region - A</th>\n",
       "      <td>4</td>\n",
       "      <td>3</td>\n",
       "      <td>3</td>\n",
       "    </tr>\n",
       "    <tr>\n",
       "      <th>Region - B</th>\n",
       "      <td>4</td>\n",
       "      <td>1</td>\n",
       "      <td>2</td>\n",
       "    </tr>\n",
       "    <tr>\n",
       "      <th>Region - C</th>\n",
       "      <td>1</td>\n",
       "      <td>3</td>\n",
       "      <td>1</td>\n",
       "    </tr>\n",
       "  </tbody>\n",
       "</table>\n",
       "</div>"
      ],
      "text/plain": [
       "Manager     Manager - A  Manager - B  Manager - C\n",
       "Region                                           \n",
       "Region - A            4            3            3\n",
       "Region - B            4            1            2\n",
       "Region - C            1            3            1"
      ]
     },
     "execution_count": 21,
     "metadata": {},
     "output_type": "execute_result"
    }
   ],
   "source": [
    "crosstab = pd.crosstab(df1, df2)\n",
    "crosstab"
   ]
  },
  {
   "cell_type": "code",
   "execution_count": 22,
   "id": "0fbda687",
   "metadata": {},
   "outputs": [
    {
     "data": {
      "text/plain": [
       "(3.050566893424036,\n",
       " 0.5493991051158094,\n",
       " 4,\n",
       " array([[4.09090909, 3.18181818, 2.72727273],\n",
       "        [2.86363636, 2.22727273, 1.90909091],\n",
       "        [2.04545455, 1.59090909, 1.36363636]]))"
      ]
     },
     "execution_count": 22,
     "metadata": {},
     "output_type": "execute_result"
    }
   ],
   "source": [
    "from scipy.stats import chi2_contingency\n",
    "chiVal, pVal, df, exp = chi2_contingency(crosstab)\n",
    "chiVal, pVal, df, exp"
   ]
  },
  {
   "cell_type": "code",
   "execution_count": null,
   "id": "f57c6dd0",
   "metadata": {},
   "outputs": [],
   "source": [
    "We get p value as 0.549399 which is greater than 0.05\n",
    "\n",
    "Greater p value means null hypothesis cannot be rejected. That is Region and Manager are independant features."
   ]
  }
 ],
 "metadata": {
  "kernelspec": {
   "display_name": "Python 3",
   "language": "python",
   "name": "python3"
  },
  "language_info": {
   "codemirror_mode": {
    "name": "ipython",
    "version": 3
   },
   "file_extension": ".py",
   "mimetype": "text/x-python",
   "name": "python",
   "nbconvert_exporter": "python",
   "pygments_lexer": "ipython3",
   "version": "3.8.8"
  }
 },
 "nbformat": 4,
 "nbformat_minor": 5
}
